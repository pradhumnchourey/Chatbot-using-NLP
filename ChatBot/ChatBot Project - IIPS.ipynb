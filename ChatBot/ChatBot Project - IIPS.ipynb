{
 "cells": [
  {
   "cell_type": "markdown",
   "metadata": {},
   "source": [
    "# Question Answer Chatbot using NLP"
   ]
  },
  {
   "cell_type": "markdown",
   "metadata": {},
   "source": [
    "## Under the Guidance of : Dr. Rahul Singhai"
   ]
  },
  {
   "cell_type": "markdown",
   "metadata": {},
   "source": [
    "## Submitted by : \n",
    "### Poorvi Sharma         [IC-2k19-59]\n",
    "### Pradhumn Chourey [IC-2k19-60] \n",
    "### Samriddhi Jariya     [IC-2k19-76]"
   ]
  },
  {
   "cell_type": "markdown",
   "metadata": {},
   "source": [
    "## Loading the Data"
   ]
  },
  {
   "cell_type": "code",
   "execution_count": 1,
   "metadata": {},
   "outputs": [],
   "source": [
    "import pickle\n",
    "import numpy as np"
   ]
  },
  {
   "cell_type": "code",
   "execution_count": 2,
   "metadata": {},
   "outputs": [],
   "source": [
    "with open(\"train_qa.txt\", \"rb\") as fp:   # Unpickling\n",
    "    train_data =  pickle.load(fp)"
   ]
  },
  {
   "cell_type": "code",
   "execution_count": 3,
   "metadata": {},
   "outputs": [],
   "source": [
    "with open(\"test_qa.txt\", \"rb\") as fp:   # Unpickling\n",
    "    test_data =  pickle.load(fp)"
   ]
  },
  {
   "cell_type": "markdown",
   "metadata": {},
   "source": [
    "----"
   ]
  },
  {
   "cell_type": "markdown",
   "metadata": {},
   "source": [
    "## Exploring the Format of the Data"
   ]
  },
  {
   "cell_type": "code",
   "execution_count": 4,
   "metadata": {},
   "outputs": [
    {
     "data": {
      "text/plain": [
       "list"
      ]
     },
     "execution_count": 4,
     "metadata": {},
     "output_type": "execute_result"
    }
   ],
   "source": [
    "type(test_data)"
   ]
  },
  {
   "cell_type": "code",
   "execution_count": 5,
   "metadata": {},
   "outputs": [
    {
     "data": {
      "text/plain": [
       "list"
      ]
     },
     "execution_count": 5,
     "metadata": {},
     "output_type": "execute_result"
    }
   ],
   "source": [
    "type(train_data)"
   ]
  },
  {
   "cell_type": "code",
   "execution_count": 6,
   "metadata": {},
   "outputs": [
    {
     "data": {
      "text/plain": [
       "1000"
      ]
     },
     "execution_count": 6,
     "metadata": {},
     "output_type": "execute_result"
    }
   ],
   "source": [
    "len(test_data)"
   ]
  },
  {
   "cell_type": "code",
   "execution_count": 7,
   "metadata": {},
   "outputs": [
    {
     "data": {
      "text/plain": [
       "10000"
      ]
     },
     "execution_count": 7,
     "metadata": {},
     "output_type": "execute_result"
    }
   ],
   "source": [
    "len(train_data)"
   ]
  },
  {
   "cell_type": "code",
   "execution_count": 8,
   "metadata": {},
   "outputs": [
    {
     "data": {
      "text/plain": [
       "(['Mary',\n",
       "  'moved',\n",
       "  'to',\n",
       "  'the',\n",
       "  'bathroom',\n",
       "  '.',\n",
       "  'Sandra',\n",
       "  'journeyed',\n",
       "  'to',\n",
       "  'the',\n",
       "  'bedroom',\n",
       "  '.'],\n",
       " ['Is', 'Sandra', 'in', 'the', 'hallway', '?'],\n",
       " 'no')"
      ]
     },
     "execution_count": 8,
     "metadata": {},
     "output_type": "execute_result"
    }
   ],
   "source": [
    "train_data[0]"
   ]
  },
  {
   "cell_type": "code",
   "execution_count": 9,
   "metadata": {},
   "outputs": [
    {
     "data": {
      "text/plain": [
       "'Mary moved to the bathroom . Sandra journeyed to the bedroom .'"
      ]
     },
     "execution_count": 9,
     "metadata": {},
     "output_type": "execute_result"
    }
   ],
   "source": [
    "' '.join(train_data[0][0])"
   ]
  },
  {
   "cell_type": "code",
   "execution_count": 10,
   "metadata": {},
   "outputs": [
    {
     "data": {
      "text/plain": [
       "'Is Sandra in the hallway ?'"
      ]
     },
     "execution_count": 10,
     "metadata": {},
     "output_type": "execute_result"
    }
   ],
   "source": [
    "' '.join(train_data[0][1])"
   ]
  },
  {
   "cell_type": "code",
   "execution_count": 11,
   "metadata": {},
   "outputs": [
    {
     "data": {
      "text/plain": [
       "'no'"
      ]
     },
     "execution_count": 11,
     "metadata": {},
     "output_type": "execute_result"
    }
   ],
   "source": [
    "train_data[0][2]"
   ]
  },
  {
   "cell_type": "markdown",
   "metadata": {},
   "source": [
    "-----\n",
    "\n",
    "## Setting up Vocabulary of All Words"
   ]
  },
  {
   "cell_type": "code",
   "execution_count": 12,
   "metadata": {},
   "outputs": [],
   "source": [
    "# Create a set that holds the vocab words\n",
    "vocab = set()"
   ]
  },
  {
   "cell_type": "code",
   "execution_count": 13,
   "metadata": {},
   "outputs": [],
   "source": [
    "all_data = test_data + train_data"
   ]
  },
  {
   "cell_type": "code",
   "execution_count": 14,
   "metadata": {},
   "outputs": [],
   "source": [
    "for story, question , answer in all_data:\n",
    "    vocab = vocab.union(set(story))\n",
    "    vocab = vocab.union(set(question))"
   ]
  },
  {
   "cell_type": "code",
   "execution_count": 15,
   "metadata": {},
   "outputs": [],
   "source": [
    "vocab.add('no')\n",
    "vocab.add('yes')"
   ]
  },
  {
   "cell_type": "code",
   "execution_count": 16,
   "metadata": {},
   "outputs": [
    {
     "data": {
      "text/plain": [
       "{'.',\n",
       " '?',\n",
       " 'Daniel',\n",
       " 'Is',\n",
       " 'John',\n",
       " 'Mary',\n",
       " 'Sandra',\n",
       " 'apple',\n",
       " 'back',\n",
       " 'bathroom',\n",
       " 'bedroom',\n",
       " 'discarded',\n",
       " 'down',\n",
       " 'dropped',\n",
       " 'football',\n",
       " 'garden',\n",
       " 'got',\n",
       " 'grabbed',\n",
       " 'hallway',\n",
       " 'in',\n",
       " 'journeyed',\n",
       " 'kitchen',\n",
       " 'left',\n",
       " 'milk',\n",
       " 'moved',\n",
       " 'no',\n",
       " 'office',\n",
       " 'picked',\n",
       " 'put',\n",
       " 'the',\n",
       " 'there',\n",
       " 'to',\n",
       " 'took',\n",
       " 'travelled',\n",
       " 'up',\n",
       " 'went',\n",
       " 'yes'}"
      ]
     },
     "execution_count": 16,
     "metadata": {},
     "output_type": "execute_result"
    }
   ],
   "source": [
    "vocab"
   ]
  },
  {
   "cell_type": "code",
   "execution_count": 17,
   "metadata": {},
   "outputs": [],
   "source": [
    "vocab_len = len(vocab) + 1 #we add an extra space to hold a 0 for Keras's pad_sequences"
   ]
  },
  {
   "cell_type": "code",
   "execution_count": 18,
   "metadata": {},
   "outputs": [],
   "source": [
    "max_story_len = max([len(data[0]) for data in all_data])"
   ]
  },
  {
   "cell_type": "code",
   "execution_count": 19,
   "metadata": {},
   "outputs": [
    {
     "data": {
      "text/plain": [
       "156"
      ]
     },
     "execution_count": 19,
     "metadata": {},
     "output_type": "execute_result"
    }
   ],
   "source": [
    "max_story_len"
   ]
  },
  {
   "cell_type": "code",
   "execution_count": 20,
   "metadata": {},
   "outputs": [],
   "source": [
    "max_question_len = max([len(data[1]) for data in all_data])"
   ]
  },
  {
   "cell_type": "code",
   "execution_count": 21,
   "metadata": {},
   "outputs": [
    {
     "data": {
      "text/plain": [
       "6"
      ]
     },
     "execution_count": 21,
     "metadata": {},
     "output_type": "execute_result"
    }
   ],
   "source": [
    "max_question_len"
   ]
  },
  {
   "cell_type": "markdown",
   "metadata": {},
   "source": [
    "## Vectorizing the Data"
   ]
  },
  {
   "cell_type": "code",
   "execution_count": 22,
   "metadata": {},
   "outputs": [
    {
     "data": {
      "text/plain": [
       "{'.',\n",
       " '?',\n",
       " 'Daniel',\n",
       " 'Is',\n",
       " 'John',\n",
       " 'Mary',\n",
       " 'Sandra',\n",
       " 'apple',\n",
       " 'back',\n",
       " 'bathroom',\n",
       " 'bedroom',\n",
       " 'discarded',\n",
       " 'down',\n",
       " 'dropped',\n",
       " 'football',\n",
       " 'garden',\n",
       " 'got',\n",
       " 'grabbed',\n",
       " 'hallway',\n",
       " 'in',\n",
       " 'journeyed',\n",
       " 'kitchen',\n",
       " 'left',\n",
       " 'milk',\n",
       " 'moved',\n",
       " 'no',\n",
       " 'office',\n",
       " 'picked',\n",
       " 'put',\n",
       " 'the',\n",
       " 'there',\n",
       " 'to',\n",
       " 'took',\n",
       " 'travelled',\n",
       " 'up',\n",
       " 'went',\n",
       " 'yes'}"
      ]
     },
     "execution_count": 22,
     "metadata": {},
     "output_type": "execute_result"
    }
   ],
   "source": [
    "vocab"
   ]
  },
  {
   "cell_type": "code",
   "execution_count": 23,
   "metadata": {},
   "outputs": [],
   "source": [
    "# Reserve 0 for pad_sequences\n",
    "vocab_size = len(vocab) + 1"
   ]
  },
  {
   "cell_type": "markdown",
   "metadata": {},
   "source": [
    "-----------"
   ]
  },
  {
   "cell_type": "code",
   "execution_count": 24,
   "metadata": {},
   "outputs": [],
   "source": [
    "from keras.preprocessing.sequence import pad_sequences\n",
    "from keras.preprocessing.text import Tokenizer"
   ]
  },
  {
   "cell_type": "code",
   "execution_count": 25,
   "metadata": {},
   "outputs": [],
   "source": [
    "# integer encode sequences of words\n",
    "tokenizer = Tokenizer(filters=[])\n",
    "tokenizer.fit_on_texts(vocab)"
   ]
  },
  {
   "cell_type": "code",
   "execution_count": 26,
   "metadata": {},
   "outputs": [
    {
     "data": {
      "text/plain": [
       "{'there': 1,\n",
       " 'travelled': 2,\n",
       " 'no': 3,\n",
       " 'back': 4,\n",
       " 'yes': 5,\n",
       " 'football': 6,\n",
       " 'office': 7,\n",
       " 'in': 8,\n",
       " 'went': 9,\n",
       " 'discarded': 10,\n",
       " 'moved': 11,\n",
       " 'dropped': 12,\n",
       " 'left': 13,\n",
       " '?': 14,\n",
       " 'the': 15,\n",
       " 'john': 16,\n",
       " 'to': 17,\n",
       " 'sandra': 18,\n",
       " 'grabbed': 19,\n",
       " 'apple': 20,\n",
       " 'got': 21,\n",
       " 'mary': 22,\n",
       " 'took': 23,\n",
       " 'kitchen': 24,\n",
       " 'up': 25,\n",
       " 'picked': 26,\n",
       " 'put': 27,\n",
       " 'milk': 28,\n",
       " '.': 29,\n",
       " 'garden': 30,\n",
       " 'is': 31,\n",
       " 'daniel': 32,\n",
       " 'down': 33,\n",
       " 'hallway': 34,\n",
       " 'bathroom': 35,\n",
       " 'bedroom': 36,\n",
       " 'journeyed': 37}"
      ]
     },
     "execution_count": 26,
     "metadata": {},
     "output_type": "execute_result"
    }
   ],
   "source": [
    "tokenizer.word_index"
   ]
  },
  {
   "cell_type": "code",
   "execution_count": 27,
   "metadata": {},
   "outputs": [],
   "source": [
    "train_story_text = []\n",
    "train_question_text = []\n",
    "train_answers = []\n",
    "\n",
    "for story,question,answer in train_data:\n",
    "    train_story_text.append(story)\n",
    "    train_question_text.append(question)"
   ]
  },
  {
   "cell_type": "code",
   "execution_count": 28,
   "metadata": {},
   "outputs": [],
   "source": [
    "train_story_seq = tokenizer.texts_to_sequences(train_story_text)"
   ]
  },
  {
   "cell_type": "code",
   "execution_count": 29,
   "metadata": {},
   "outputs": [
    {
     "data": {
      "text/plain": [
       "10000"
      ]
     },
     "execution_count": 29,
     "metadata": {},
     "output_type": "execute_result"
    }
   ],
   "source": [
    "len(train_story_text)"
   ]
  },
  {
   "cell_type": "code",
   "execution_count": 30,
   "metadata": {},
   "outputs": [
    {
     "data": {
      "text/plain": [
       "10000"
      ]
     },
     "execution_count": 30,
     "metadata": {},
     "output_type": "execute_result"
    }
   ],
   "source": [
    "len(train_story_seq)"
   ]
  },
  {
   "cell_type": "code",
   "execution_count": 31,
   "metadata": {},
   "outputs": [],
   "source": [
    "# word_index = tokenizer.word_index"
   ]
  },
  {
   "cell_type": "markdown",
   "metadata": {},
   "source": [
    "### Functionalize Vectorization"
   ]
  },
  {
   "cell_type": "code",
   "execution_count": 32,
   "metadata": {},
   "outputs": [],
   "source": [
    "def vectorize_stories(data, word_index=tokenizer.word_index, max_story_len=max_story_len,max_question_len=max_question_len):\n",
    "    '''\n",
    "    INPUT: \n",
    "    \n",
    "    data: consisting of Stories,Queries,and Answers\n",
    "    word_index: word index dictionary from tokenizer\n",
    "    max_story_len: the length of the longest story (used for pad_sequences function)\n",
    "    max_question_len: length of the longest question (used for pad_sequences function)\n",
    "\n",
    "\n",
    "    OUTPUT:\n",
    "    \n",
    "    Vectorizes the stories,questions, and answers into padded sequences. We first loop for every story, query , and\n",
    "    answer in the data. Then we convert the raw words to an word index value. Then we append each set to their appropriate\n",
    "    output list. Then once we have converted the words to numbers, we pad the sequences so they are all of equal length.\n",
    "    \n",
    "    Returns this in the form of a tuple (X,Xq,Y) (padded based on max lengths)\n",
    "    '''\n",
    "    \n",
    "    \n",
    "    # X = STORIES\n",
    "    X = []\n",
    "    # Xq = QUERY/QUESTION\n",
    "    Xq = []\n",
    "    # Y = CORRECT ANSWER\n",
    "    Y = []\n",
    "    \n",
    "    \n",
    "    for story, query, answer in data:\n",
    "        \n",
    "        # Grab the word index for every word in story\n",
    "        x = [word_index[word.lower()] for word in story]\n",
    "        # Grab the word index for every word in query\n",
    "        xq = [word_index[word.lower()] for word in query]\n",
    "        \n",
    "        # Grab the Answers (either Yes/No so we don't need to use list comprehension here)\n",
    "        # Index 0 is reserved so we're going to use + 1\n",
    "        y = np.zeros(len(word_index) + 1)\n",
    "        \n",
    "        # Now that y is all zeros and we know its just Yes/No , we can use numpy logic to create this assignment\n",
    "        #\n",
    "        y[word_index[answer]] = 1\n",
    "        \n",
    "        # Append each set of story,query, and answer to their respective holding lists\n",
    "        X.append(x)\n",
    "        Xq.append(xq)\n",
    "        Y.append(y)\n",
    "        \n",
    "    # Finally, pad the sequences based on their max length so the RNN can be trained on uniformly long sequences.\n",
    "        \n",
    "    # RETURN TUPLE FOR UNPACKING\n",
    "    return (pad_sequences(X, maxlen=max_story_len),pad_sequences(Xq, maxlen=max_question_len), np.array(Y))"
   ]
  },
  {
   "cell_type": "code",
   "execution_count": 33,
   "metadata": {},
   "outputs": [],
   "source": [
    "inputs_train, queries_train, answers_train = vectorize_stories(train_data)"
   ]
  },
  {
   "cell_type": "code",
   "execution_count": 34,
   "metadata": {},
   "outputs": [],
   "source": [
    "inputs_test, queries_test, answers_test = vectorize_stories(test_data)"
   ]
  },
  {
   "cell_type": "code",
   "execution_count": 35,
   "metadata": {},
   "outputs": [
    {
     "data": {
      "text/plain": [
       "array([[ 0,  0,  0, ..., 15, 36, 29],\n",
       "       [ 0,  0,  0, ..., 15, 30, 29],\n",
       "       [ 0,  0,  0, ..., 15, 30, 29],\n",
       "       ...,\n",
       "       [ 0,  0,  0, ..., 15, 20, 29],\n",
       "       [ 0,  0,  0, ..., 15, 30, 29],\n",
       "       [ 0,  0,  0, ..., 20,  1, 29]])"
      ]
     },
     "execution_count": 35,
     "metadata": {},
     "output_type": "execute_result"
    }
   ],
   "source": [
    "inputs_test"
   ]
  },
  {
   "cell_type": "code",
   "execution_count": 36,
   "metadata": {},
   "outputs": [
    {
     "data": {
      "text/plain": [
       "array([[31, 16,  8, 15, 24, 14],\n",
       "       [31, 16,  8, 15, 24, 14],\n",
       "       [31, 16,  8, 15, 30, 14],\n",
       "       ...,\n",
       "       [31, 22,  8, 15, 36, 14],\n",
       "       [31, 18,  8, 15, 30, 14],\n",
       "       [31, 22,  8, 15, 30, 14]])"
      ]
     },
     "execution_count": 36,
     "metadata": {},
     "output_type": "execute_result"
    }
   ],
   "source": [
    "queries_test"
   ]
  },
  {
   "cell_type": "code",
   "execution_count": 37,
   "metadata": {},
   "outputs": [
    {
     "data": {
      "text/plain": [
       "array([[0., 0., 0., ..., 0., 0., 0.],\n",
       "       [0., 0., 0., ..., 0., 0., 0.],\n",
       "       [0., 0., 0., ..., 0., 0., 0.],\n",
       "       ...,\n",
       "       [0., 0., 0., ..., 0., 0., 0.],\n",
       "       [0., 0., 0., ..., 0., 0., 0.],\n",
       "       [0., 0., 0., ..., 0., 0., 0.]])"
      ]
     },
     "execution_count": 37,
     "metadata": {},
     "output_type": "execute_result"
    }
   ],
   "source": [
    "answers_test"
   ]
  },
  {
   "cell_type": "code",
   "execution_count": 38,
   "metadata": {},
   "outputs": [
    {
     "data": {
      "text/plain": [
       "array([  0.,   0.,   0., 503.,   0., 497.,   0.,   0.,   0.,   0.,   0.,\n",
       "         0.,   0.,   0.,   0.,   0.,   0.,   0.,   0.,   0.,   0.,   0.,\n",
       "         0.,   0.,   0.,   0.,   0.,   0.,   0.,   0.,   0.,   0.,   0.,\n",
       "         0.,   0.,   0.,   0.,   0.])"
      ]
     },
     "execution_count": 38,
     "metadata": {},
     "output_type": "execute_result"
    }
   ],
   "source": [
    "sum(answers_test)"
   ]
  },
  {
   "cell_type": "code",
   "execution_count": 39,
   "metadata": {},
   "outputs": [
    {
     "data": {
      "text/plain": [
       "5"
      ]
     },
     "execution_count": 39,
     "metadata": {},
     "output_type": "execute_result"
    }
   ],
   "source": [
    "tokenizer.word_index['yes']"
   ]
  },
  {
   "cell_type": "code",
   "execution_count": 40,
   "metadata": {},
   "outputs": [
    {
     "data": {
      "text/plain": [
       "3"
      ]
     },
     "execution_count": 40,
     "metadata": {},
     "output_type": "execute_result"
    }
   ],
   "source": [
    "tokenizer.word_index['no']"
   ]
  },
  {
   "cell_type": "markdown",
   "metadata": {},
   "source": [
    "## Creating the Model"
   ]
  },
  {
   "cell_type": "code",
   "execution_count": 41,
   "metadata": {},
   "outputs": [],
   "source": [
    "from keras.models import Sequential, Model\n",
    "from keras.layers.embeddings import Embedding\n",
    "from keras.layers import Input, Activation, Dense, Permute, Dropout\n",
    "from keras.layers import add, dot, concatenate\n",
    "from keras.layers import LSTM"
   ]
  },
  {
   "cell_type": "markdown",
   "metadata": {},
   "source": [
    "### Placeholders for Inputs\n",
    "\n",
    "Recall we technically have two inputs, stories and questions. So we need to use placeholders. `Input()` is used to instantiate a Keras tensor.\n"
   ]
  },
  {
   "cell_type": "code",
   "execution_count": 42,
   "metadata": {},
   "outputs": [],
   "source": [
    "input_sequence = Input((max_story_len,))\n",
    "question = Input((max_question_len,))"
   ]
  },
  {
   "cell_type": "markdown",
   "metadata": {
    "collapsed": true
   },
   "source": [
    "### Building the Networks\n",
    "\n",
    "To understand why we chose this setup, make sure to read the paper we are using:\n",
    "\n",
    "* Sainbayar Sukhbaatar, Arthur Szlam, Jason Weston, Rob Fergus,\n",
    "  \"End-To-End Memory Networks\",\n",
    "  http://arxiv.org/abs/1503.08895"
   ]
  },
  {
   "cell_type": "markdown",
   "metadata": {},
   "source": [
    "## Encoders\n",
    "\n",
    "### Input Encoder m"
   ]
  },
  {
   "cell_type": "code",
   "execution_count": 43,
   "metadata": {},
   "outputs": [],
   "source": [
    "# Input gets embedded to a sequence of vectors\n",
    "input_encoder_m = Sequential()\n",
    "input_encoder_m.add(Embedding(input_dim=vocab_size,output_dim=64))\n",
    "input_encoder_m.add(Dropout(0.3))\n",
    "\n",
    "# This encoder will output:\n",
    "# (samples, story_maxlen, embedding_dim)"
   ]
  },
  {
   "cell_type": "markdown",
   "metadata": {},
   "source": [
    "### Input Encoder c"
   ]
  },
  {
   "cell_type": "code",
   "execution_count": 44,
   "metadata": {},
   "outputs": [],
   "source": [
    "# embed the input into a sequence of vectors of size query_maxlen\n",
    "input_encoder_c = Sequential()\n",
    "input_encoder_c.add(Embedding(input_dim=vocab_size,output_dim=max_question_len))\n",
    "input_encoder_c.add(Dropout(0.3))\n",
    "# output: (samples, story_maxlen, query_maxlen)"
   ]
  },
  {
   "cell_type": "markdown",
   "metadata": {},
   "source": [
    "### Question Encoder"
   ]
  },
  {
   "cell_type": "code",
   "execution_count": 45,
   "metadata": {},
   "outputs": [],
   "source": [
    "# embed the question into a sequence of vectors\n",
    "question_encoder = Sequential()\n",
    "question_encoder.add(Embedding(input_dim=vocab_size,\n",
    "                               output_dim=64,\n",
    "                               input_length=max_question_len))\n",
    "question_encoder.add(Dropout(0.3))\n",
    "# output: (samples, query_maxlen, embedding_dim)"
   ]
  },
  {
   "cell_type": "markdown",
   "metadata": {},
   "source": [
    "### Encode the Sequences"
   ]
  },
  {
   "cell_type": "code",
   "execution_count": 46,
   "metadata": {},
   "outputs": [],
   "source": [
    "# encode input sequence and questions (which are indices)\n",
    "# to sequences of dense vectors\n",
    "input_encoded_m = input_encoder_m(input_sequence)\n",
    "input_encoded_c = input_encoder_c(input_sequence)\n",
    "question_encoded = question_encoder(question)"
   ]
  },
  {
   "cell_type": "markdown",
   "metadata": {},
   "source": [
    "##### Use dot product to compute the match between first input vector seq and the query"
   ]
  },
  {
   "cell_type": "code",
   "execution_count": 47,
   "metadata": {},
   "outputs": [],
   "source": [
    "# shape: `(samples, story_maxlen, query_maxlen)`\n",
    "match = dot([input_encoded_m, question_encoded], axes=(2, 2))\n",
    "match = Activation('softmax')(match)"
   ]
  },
  {
   "cell_type": "markdown",
   "metadata": {},
   "source": [
    "#### Add this match matrix with the second input vector sequence"
   ]
  },
  {
   "cell_type": "code",
   "execution_count": 48,
   "metadata": {},
   "outputs": [],
   "source": [
    "# add the match matrix with the second input vector sequence\n",
    "response = add([match, input_encoded_c])  # (samples, story_maxlen, query_maxlen)\n",
    "response = Permute((2, 1))(response)  # (samples, query_maxlen, story_maxlen)"
   ]
  },
  {
   "cell_type": "markdown",
   "metadata": {},
   "source": [
    "#### Concatenate"
   ]
  },
  {
   "cell_type": "code",
   "execution_count": 49,
   "metadata": {},
   "outputs": [],
   "source": [
    "# concatenate the match matrix with the question vector sequence\n",
    "answer = concatenate([response, question_encoded])"
   ]
  },
  {
   "cell_type": "code",
   "execution_count": 50,
   "metadata": {},
   "outputs": [
    {
     "data": {
      "text/plain": [
       "<KerasTensor: shape=(None, 6, 220) dtype=float32 (created by layer 'concatenate')>"
      ]
     },
     "execution_count": 50,
     "metadata": {},
     "output_type": "execute_result"
    }
   ],
   "source": [
    "answer"
   ]
  },
  {
   "cell_type": "code",
   "execution_count": 51,
   "metadata": {},
   "outputs": [],
   "source": [
    "# Reduce with RNN (LSTM)\n",
    "answer = LSTM(32)(answer)  # (samples, 32)"
   ]
  },
  {
   "cell_type": "code",
   "execution_count": 52,
   "metadata": {},
   "outputs": [],
   "source": [
    "# Regularization with Dropout\n",
    "answer = Dropout(0.5)(answer)\n",
    "answer = Dense(vocab_size)(answer)  # (samples, vocab_size)"
   ]
  },
  {
   "cell_type": "code",
   "execution_count": 53,
   "metadata": {},
   "outputs": [],
   "source": [
    "# we output a probability distribution over the vocabulary\n",
    "answer = Activation('softmax')(answer)\n",
    "\n",
    "# build the final model\n",
    "model = Model([input_sequence, question], answer)\n",
    "model.compile(optimizer='rmsprop', loss='categorical_crossentropy',\n",
    "              metrics=['accuracy'])"
   ]
  },
  {
   "cell_type": "code",
   "execution_count": 54,
   "metadata": {},
   "outputs": [
    {
     "name": "stdout",
     "output_type": "stream",
     "text": [
      "Model: \"model\"\n",
      "__________________________________________________________________________________________________\n",
      " Layer (type)                   Output Shape         Param #     Connected to                     \n",
      "==================================================================================================\n",
      " input_1 (InputLayer)           [(None, 156)]        0           []                               \n",
      "                                                                                                  \n",
      " input_2 (InputLayer)           [(None, 6)]          0           []                               \n",
      "                                                                                                  \n",
      " sequential (Sequential)        (None, None, 64)     2432        ['input_1[0][0]']                \n",
      "                                                                                                  \n",
      " sequential_2 (Sequential)      (None, 6, 64)        2432        ['input_2[0][0]']                \n",
      "                                                                                                  \n",
      " dot (Dot)                      (None, 156, 6)       0           ['sequential[0][0]',             \n",
      "                                                                  'sequential_2[0][0]']           \n",
      "                                                                                                  \n",
      " activation (Activation)        (None, 156, 6)       0           ['dot[0][0]']                    \n",
      "                                                                                                  \n",
      " sequential_1 (Sequential)      (None, None, 6)      228         ['input_1[0][0]']                \n",
      "                                                                                                  \n",
      " add (Add)                      (None, 156, 6)       0           ['activation[0][0]',             \n",
      "                                                                  'sequential_1[0][0]']           \n",
      "                                                                                                  \n",
      " permute (Permute)              (None, 6, 156)       0           ['add[0][0]']                    \n",
      "                                                                                                  \n",
      " concatenate (Concatenate)      (None, 6, 220)       0           ['permute[0][0]',                \n",
      "                                                                  'sequential_2[0][0]']           \n",
      "                                                                                                  \n",
      " lstm (LSTM)                    (None, 32)           32384       ['concatenate[0][0]']            \n",
      "                                                                                                  \n",
      " dropout_3 (Dropout)            (None, 32)           0           ['lstm[0][0]']                   \n",
      "                                                                                                  \n",
      " dense (Dense)                  (None, 38)           1254        ['dropout_3[0][0]']              \n",
      "                                                                                                  \n",
      " activation_1 (Activation)      (None, 38)           0           ['dense[0][0]']                  \n",
      "                                                                                                  \n",
      "==================================================================================================\n",
      "Total params: 38,730\n",
      "Trainable params: 38,730\n",
      "Non-trainable params: 0\n",
      "__________________________________________________________________________________________________\n"
     ]
    }
   ],
   "source": [
    "model.summary()"
   ]
  },
  {
   "cell_type": "code",
   "execution_count": 55,
   "metadata": {},
   "outputs": [
    {
     "name": "stdout",
     "output_type": "stream",
     "text": [
      "Epoch 1/120\n",
      "313/313 [==============================] - 7s 16ms/step - loss: 0.9794 - accuracy: 0.4842 - val_loss: 0.6953 - val_accuracy: 0.4960\n",
      "Epoch 2/120\n",
      "313/313 [==============================] - 4s 12ms/step - loss: 0.7070 - accuracy: 0.4993 - val_loss: 0.6951 - val_accuracy: 0.4970\n",
      "Epoch 3/120\n",
      "313/313 [==============================] - 4s 12ms/step - loss: 0.6959 - accuracy: 0.5105 - val_loss: 0.6932 - val_accuracy: 0.5030\n",
      "Epoch 4/120\n",
      "313/313 [==============================] - 4s 12ms/step - loss: 0.6954 - accuracy: 0.5014 - val_loss: 0.6934 - val_accuracy: 0.5030\n",
      "Epoch 5/120\n",
      "313/313 [==============================] - 4s 12ms/step - loss: 0.6947 - accuracy: 0.5012 - val_loss: 0.6960 - val_accuracy: 0.5030\n",
      "Epoch 6/120\n",
      "313/313 [==============================] - 4s 12ms/step - loss: 0.6950 - accuracy: 0.4917 - val_loss: 0.6945 - val_accuracy: 0.5030\n",
      "Epoch 7/120\n",
      "313/313 [==============================] - 6s 18ms/step - loss: 0.6943 - accuracy: 0.4977 - val_loss: 0.6935 - val_accuracy: 0.4950\n",
      "Epoch 8/120\n",
      "313/313 [==============================] - 9s 27ms/step - loss: 0.6946 - accuracy: 0.4952 - val_loss: 0.6948 - val_accuracy: 0.4970\n",
      "Epoch 9/120\n",
      "313/313 [==============================] - 9s 28ms/step - loss: 0.6945 - accuracy: 0.4956 - val_loss: 0.6965 - val_accuracy: 0.4970\n",
      "Epoch 10/120\n",
      "313/313 [==============================] - 9s 30ms/step - loss: 0.6941 - accuracy: 0.4964 - val_loss: 0.6943 - val_accuracy: 0.4790\n",
      "Epoch 11/120\n",
      "313/313 [==============================] - 8s 26ms/step - loss: 0.6910 - accuracy: 0.5207 - val_loss: 0.6906 - val_accuracy: 0.5020\n",
      "Epoch 12/120\n",
      "313/313 [==============================] - 8s 26ms/step - loss: 0.6761 - accuracy: 0.5510 - val_loss: 0.6758 - val_accuracy: 0.5470\n",
      "Epoch 13/120\n",
      "313/313 [==============================] - 8s 27ms/step - loss: 0.6511 - accuracy: 0.6059 - val_loss: 0.6408 - val_accuracy: 0.6300\n",
      "Epoch 14/120\n",
      "313/313 [==============================] - 8s 25ms/step - loss: 0.6375 - accuracy: 0.6336 - val_loss: 0.6346 - val_accuracy: 0.6500\n",
      "Epoch 15/120\n",
      "313/313 [==============================] - 7s 23ms/step - loss: 0.6269 - accuracy: 0.6525 - val_loss: 0.6230 - val_accuracy: 0.6640\n",
      "Epoch 16/120\n",
      "313/313 [==============================] - 9s 28ms/step - loss: 0.6136 - accuracy: 0.6673 - val_loss: 0.6148 - val_accuracy: 0.6650\n",
      "Epoch 17/120\n",
      "313/313 [==============================] - 7s 22ms/step - loss: 0.6099 - accuracy: 0.6765 - val_loss: 0.6124 - val_accuracy: 0.6700\n",
      "Epoch 18/120\n",
      "313/313 [==============================] - 9s 29ms/step - loss: 0.5922 - accuracy: 0.6973 - val_loss: 0.5863 - val_accuracy: 0.6950\n",
      "Epoch 19/120\n",
      "313/313 [==============================] - 12s 37ms/step - loss: 0.5827 - accuracy: 0.7102 - val_loss: 0.5656 - val_accuracy: 0.7090\n",
      "Epoch 20/120\n",
      "313/313 [==============================] - 7s 23ms/step - loss: 0.5567 - accuracy: 0.7306 - val_loss: 0.5329 - val_accuracy: 0.7380\n",
      "Epoch 21/120\n",
      "313/313 [==============================] - 11s 35ms/step - loss: 0.5349 - accuracy: 0.7469 - val_loss: 0.5285 - val_accuracy: 0.7480\n",
      "Epoch 22/120\n",
      "313/313 [==============================] - 8s 25ms/step - loss: 0.5103 - accuracy: 0.7606 - val_loss: 0.5153 - val_accuracy: 0.7380\n",
      "Epoch 23/120\n",
      "313/313 [==============================] - 11s 35ms/step - loss: 0.4978 - accuracy: 0.7636 - val_loss: 0.4828 - val_accuracy: 0.7570\n",
      "Epoch 24/120\n",
      "313/313 [==============================] - 7s 22ms/step - loss: 0.4935 - accuracy: 0.7697 - val_loss: 0.5055 - val_accuracy: 0.7490\n",
      "Epoch 25/120\n",
      "313/313 [==============================] - 7s 23ms/step - loss: 0.4854 - accuracy: 0.7684 - val_loss: 0.4992 - val_accuracy: 0.7570\n",
      "Epoch 26/120\n",
      "313/313 [==============================] - 10s 33ms/step - loss: 0.4732 - accuracy: 0.7789 - val_loss: 0.4514 - val_accuracy: 0.7700\n",
      "Epoch 27/120\n",
      "313/313 [==============================] - 8s 27ms/step - loss: 0.4543 - accuracy: 0.7919 - val_loss: 0.4447 - val_accuracy: 0.7740\n",
      "Epoch 28/120\n",
      "313/313 [==============================] - 11s 34ms/step - loss: 0.4475 - accuracy: 0.7916 - val_loss: 0.4586 - val_accuracy: 0.7760\n",
      "Epoch 29/120\n",
      "313/313 [==============================] - 10s 33ms/step - loss: 0.4361 - accuracy: 0.7970 - val_loss: 0.4442 - val_accuracy: 0.7700\n",
      "Epoch 30/120\n",
      "313/313 [==============================] - 7s 24ms/step - loss: 0.4303 - accuracy: 0.7974 - val_loss: 0.4247 - val_accuracy: 0.7780\n",
      "Epoch 31/120\n",
      "313/313 [==============================] - 9s 27ms/step - loss: 0.4270 - accuracy: 0.8028 - val_loss: 0.4397 - val_accuracy: 0.7820\n",
      "Epoch 32/120\n",
      "313/313 [==============================] - 7s 22ms/step - loss: 0.4239 - accuracy: 0.8040 - val_loss: 0.4289 - val_accuracy: 0.7800\n",
      "Epoch 33/120\n",
      "313/313 [==============================] - 7s 21ms/step - loss: 0.4185 - accuracy: 0.8048 - val_loss: 0.4409 - val_accuracy: 0.7760\n",
      "Epoch 34/120\n",
      "313/313 [==============================] - 7s 22ms/step - loss: 0.4129 - accuracy: 0.8052 - val_loss: 0.4186 - val_accuracy: 0.7800\n",
      "Epoch 35/120\n",
      "313/313 [==============================] - 7s 23ms/step - loss: 0.4105 - accuracy: 0.8109 - val_loss: 0.4134 - val_accuracy: 0.7910\n",
      "Epoch 36/120\n",
      "313/313 [==============================] - 7s 22ms/step - loss: 0.4035 - accuracy: 0.8165 - val_loss: 0.4127 - val_accuracy: 0.7930\n",
      "Epoch 37/120\n",
      "313/313 [==============================] - 10s 31ms/step - loss: 0.4045 - accuracy: 0.8139 - val_loss: 0.4164 - val_accuracy: 0.7900\n",
      "Epoch 38/120\n",
      "313/313 [==============================] - 8s 24ms/step - loss: 0.3996 - accuracy: 0.8129 - val_loss: 0.4165 - val_accuracy: 0.7880\n",
      "Epoch 39/120\n",
      "313/313 [==============================] - 7s 23ms/step - loss: 0.3993 - accuracy: 0.8177 - val_loss: 0.4126 - val_accuracy: 0.7920\n",
      "Epoch 40/120\n",
      "313/313 [==============================] - 9s 28ms/step - loss: 0.3899 - accuracy: 0.8212 - val_loss: 0.4242 - val_accuracy: 0.7900\n",
      "Epoch 41/120\n",
      "313/313 [==============================] - 11s 34ms/step - loss: 0.3912 - accuracy: 0.8184 - val_loss: 0.4076 - val_accuracy: 0.7860\n",
      "Epoch 42/120\n",
      "313/313 [==============================] - 9s 29ms/step - loss: 0.3905 - accuracy: 0.8182 - val_loss: 0.4329 - val_accuracy: 0.7790\n",
      "Epoch 43/120\n",
      "313/313 [==============================] - 8s 27ms/step - loss: 0.3810 - accuracy: 0.8234 - val_loss: 0.4107 - val_accuracy: 0.7940\n",
      "Epoch 44/120\n",
      "313/313 [==============================] - 9s 30ms/step - loss: 0.3814 - accuracy: 0.8222 - val_loss: 0.4084 - val_accuracy: 0.7920\n",
      "Epoch 45/120\n",
      "313/313 [==============================] - 9s 29ms/step - loss: 0.3783 - accuracy: 0.8257 - val_loss: 0.4273 - val_accuracy: 0.7900\n",
      "Epoch 46/120\n",
      "313/313 [==============================] - 11s 36ms/step - loss: 0.3744 - accuracy: 0.8298 - val_loss: 0.4041 - val_accuracy: 0.8000\n",
      "Epoch 47/120\n",
      "313/313 [==============================] - 10s 30ms/step - loss: 0.3732 - accuracy: 0.8275 - val_loss: 0.4104 - val_accuracy: 0.7910\n",
      "Epoch 48/120\n",
      "313/313 [==============================] - 7s 24ms/step - loss: 0.3695 - accuracy: 0.8335 - val_loss: 0.4139 - val_accuracy: 0.7880\n",
      "Epoch 49/120\n",
      "313/313 [==============================] - 10s 33ms/step - loss: 0.3669 - accuracy: 0.8296 - val_loss: 0.4213 - val_accuracy: 0.7910\n",
      "Epoch 50/120\n",
      "313/313 [==============================] - 8s 27ms/step - loss: 0.3611 - accuracy: 0.8357 - val_loss: 0.4329 - val_accuracy: 0.7840\n",
      "Epoch 51/120\n",
      "313/313 [==============================] - 7s 22ms/step - loss: 0.3563 - accuracy: 0.8400 - val_loss: 0.4466 - val_accuracy: 0.7890\n",
      "Epoch 52/120\n",
      "313/313 [==============================] - 9s 27ms/step - loss: 0.3582 - accuracy: 0.8389 - val_loss: 0.4123 - val_accuracy: 0.7910\n",
      "Epoch 53/120\n",
      "313/313 [==============================] - 7s 23ms/step - loss: 0.3567 - accuracy: 0.8356 - val_loss: 0.4096 - val_accuracy: 0.7970\n",
      "Epoch 54/120\n",
      "313/313 [==============================] - 8s 24ms/step - loss: 0.3514 - accuracy: 0.8401 - val_loss: 0.4161 - val_accuracy: 0.7900\n",
      "Epoch 55/120\n",
      "313/313 [==============================] - 11s 36ms/step - loss: 0.3500 - accuracy: 0.8400 - val_loss: 0.4185 - val_accuracy: 0.7940\n",
      "Epoch 56/120\n",
      "313/313 [==============================] - 9s 29ms/step - loss: 0.3512 - accuracy: 0.8403 - val_loss: 0.4287 - val_accuracy: 0.7870\n",
      "Epoch 57/120\n"
     ]
    },
    {
     "name": "stdout",
     "output_type": "stream",
     "text": [
      "313/313 [==============================] - 11s 34ms/step - loss: 0.3457 - accuracy: 0.8461 - val_loss: 0.4056 - val_accuracy: 0.8070\n",
      "Epoch 58/120\n",
      "313/313 [==============================] - 7s 22ms/step - loss: 0.3418 - accuracy: 0.8468 - val_loss: 0.4314 - val_accuracy: 0.7990\n",
      "Epoch 59/120\n",
      "313/313 [==============================] - 10s 33ms/step - loss: 0.3406 - accuracy: 0.8492 - val_loss: 0.4262 - val_accuracy: 0.7910\n",
      "Epoch 60/120\n",
      "313/313 [==============================] - 9s 30ms/step - loss: 0.3393 - accuracy: 0.8474 - val_loss: 0.4222 - val_accuracy: 0.8010\n",
      "Epoch 61/120\n",
      "313/313 [==============================] - 10s 31ms/step - loss: 0.3386 - accuracy: 0.8487 - val_loss: 0.4265 - val_accuracy: 0.7970\n",
      "Epoch 62/120\n",
      "313/313 [==============================] - 12s 37ms/step - loss: 0.3356 - accuracy: 0.8522 - val_loss: 0.4153 - val_accuracy: 0.7940\n",
      "Epoch 63/120\n",
      "313/313 [==============================] - 9s 29ms/step - loss: 0.3320 - accuracy: 0.8470 - val_loss: 0.4359 - val_accuracy: 0.7950\n",
      "Epoch 64/120\n",
      "313/313 [==============================] - 11s 34ms/step - loss: 0.3385 - accuracy: 0.8494 - val_loss: 0.4162 - val_accuracy: 0.8060\n",
      "Epoch 65/120\n",
      "313/313 [==============================] - 7s 23ms/step - loss: 0.3263 - accuracy: 0.8519 - val_loss: 0.4247 - val_accuracy: 0.8020\n",
      "Epoch 66/120\n",
      "313/313 [==============================] - 7s 24ms/step - loss: 0.3272 - accuracy: 0.8543 - val_loss: 0.4382 - val_accuracy: 0.8030\n",
      "Epoch 67/120\n",
      "313/313 [==============================] - 7s 22ms/step - loss: 0.3266 - accuracy: 0.8518 - val_loss: 0.4262 - val_accuracy: 0.8010\n",
      "Epoch 68/120\n",
      "313/313 [==============================] - 8s 25ms/step - loss: 0.3234 - accuracy: 0.8585 - val_loss: 0.4340 - val_accuracy: 0.7980\n",
      "Epoch 69/120\n",
      "313/313 [==============================] - 12s 37ms/step - loss: 0.3253 - accuracy: 0.8566 - val_loss: 0.4688 - val_accuracy: 0.7920\n",
      "Epoch 70/120\n",
      "313/313 [==============================] - 10s 32ms/step - loss: 0.3237 - accuracy: 0.8553 - val_loss: 0.4183 - val_accuracy: 0.8050\n",
      "Epoch 71/120\n",
      "313/313 [==============================] - 8s 27ms/step - loss: 0.3198 - accuracy: 0.8568 - val_loss: 0.4577 - val_accuracy: 0.7930\n",
      "Epoch 72/120\n",
      "313/313 [==============================] - 7s 23ms/step - loss: 0.3196 - accuracy: 0.8588 - val_loss: 0.4284 - val_accuracy: 0.7970\n",
      "Epoch 73/120\n",
      "313/313 [==============================] - 7s 22ms/step - loss: 0.3132 - accuracy: 0.8644 - val_loss: 0.4405 - val_accuracy: 0.8040\n",
      "Epoch 74/120\n",
      "313/313 [==============================] - 9s 28ms/step - loss: 0.3152 - accuracy: 0.8595 - val_loss: 0.4424 - val_accuracy: 0.7960\n",
      "Epoch 75/120\n",
      "313/313 [==============================] - 7s 23ms/step - loss: 0.3088 - accuracy: 0.8633 - val_loss: 0.4493 - val_accuracy: 0.8000\n",
      "Epoch 76/120\n",
      "313/313 [==============================] - 12s 37ms/step - loss: 0.3060 - accuracy: 0.8650 - val_loss: 0.4391 - val_accuracy: 0.8060\n",
      "Epoch 77/120\n",
      "313/313 [==============================] - 8s 24ms/step - loss: 0.3104 - accuracy: 0.8639 - val_loss: 0.4462 - val_accuracy: 0.7980\n",
      "Epoch 78/120\n",
      "313/313 [==============================] - 10s 31ms/step - loss: 0.3043 - accuracy: 0.8658 - val_loss: 0.4500 - val_accuracy: 0.8070\n",
      "Epoch 79/120\n",
      "313/313 [==============================] - 9s 27ms/step - loss: 0.3007 - accuracy: 0.8677 - val_loss: 0.4833 - val_accuracy: 0.7980\n",
      "Epoch 80/120\n",
      "313/313 [==============================] - 8s 24ms/step - loss: 0.3079 - accuracy: 0.8639 - val_loss: 0.4659 - val_accuracy: 0.7950\n",
      "Epoch 81/120\n",
      "313/313 [==============================] - 12s 38ms/step - loss: 0.2977 - accuracy: 0.8685 - val_loss: 0.4680 - val_accuracy: 0.8040\n",
      "Epoch 82/120\n",
      "313/313 [==============================] - 12s 37ms/step - loss: 0.3018 - accuracy: 0.8646 - val_loss: 0.4678 - val_accuracy: 0.8000\n",
      "Epoch 83/120\n",
      "313/313 [==============================] - 9s 29ms/step - loss: 0.2927 - accuracy: 0.8741 - val_loss: 0.4927 - val_accuracy: 0.7950\n",
      "Epoch 84/120\n",
      "313/313 [==============================] - 8s 24ms/step - loss: 0.2935 - accuracy: 0.8717 - val_loss: 0.4702 - val_accuracy: 0.8050\n",
      "Epoch 85/120\n",
      "313/313 [==============================] - 10s 32ms/step - loss: 0.2895 - accuracy: 0.8745 - val_loss: 0.4616 - val_accuracy: 0.7980\n",
      "Epoch 86/120\n",
      "313/313 [==============================] - 7s 22ms/step - loss: 0.2965 - accuracy: 0.8693 - val_loss: 0.4779 - val_accuracy: 0.7990\n",
      "Epoch 87/120\n",
      "313/313 [==============================] - 8s 26ms/step - loss: 0.2919 - accuracy: 0.8748 - val_loss: 0.4557 - val_accuracy: 0.8020\n",
      "Epoch 88/120\n",
      "313/313 [==============================] - 12s 38ms/step - loss: 0.2883 - accuracy: 0.8749 - val_loss: 0.4912 - val_accuracy: 0.7990\n",
      "Epoch 89/120\n",
      "313/313 [==============================] - 12s 38ms/step - loss: 0.2826 - accuracy: 0.8774 - val_loss: 0.4550 - val_accuracy: 0.8130\n",
      "Epoch 90/120\n",
      "313/313 [==============================] - 9s 27ms/step - loss: 0.2809 - accuracy: 0.8783 - val_loss: 0.4890 - val_accuracy: 0.8090\n",
      "Epoch 91/120\n",
      "313/313 [==============================] - 7s 23ms/step - loss: 0.2907 - accuracy: 0.8761 - val_loss: 0.4576 - val_accuracy: 0.8040\n",
      "Epoch 92/120\n",
      "313/313 [==============================] - 12s 38ms/step - loss: 0.2838 - accuracy: 0.8781 - val_loss: 0.4648 - val_accuracy: 0.8080\n",
      "Epoch 93/120\n",
      "313/313 [==============================] - 8s 27ms/step - loss: 0.2825 - accuracy: 0.8763 - val_loss: 0.4850 - val_accuracy: 0.8050\n",
      "Epoch 94/120\n",
      "313/313 [==============================] - 7s 23ms/step - loss: 0.2774 - accuracy: 0.8808 - val_loss: 0.5076 - val_accuracy: 0.8080\n",
      "Epoch 95/120\n",
      "313/313 [==============================] - 12s 39ms/step - loss: 0.2831 - accuracy: 0.8791 - val_loss: 0.4888 - val_accuracy: 0.8170\n",
      "Epoch 96/120\n",
      "313/313 [==============================] - 7s 22ms/step - loss: 0.2775 - accuracy: 0.8799 - val_loss: 0.4834 - val_accuracy: 0.8090\n",
      "Epoch 97/120\n",
      "313/313 [==============================] - 10s 33ms/step - loss: 0.2742 - accuracy: 0.8836 - val_loss: 0.5066 - val_accuracy: 0.8020\n",
      "Epoch 98/120\n",
      "313/313 [==============================] - 7s 22ms/step - loss: 0.2743 - accuracy: 0.8833 - val_loss: 0.4925 - val_accuracy: 0.8140\n",
      "Epoch 99/120\n",
      "313/313 [==============================] - 8s 26ms/step - loss: 0.2686 - accuracy: 0.8847 - val_loss: 0.5385 - val_accuracy: 0.8010\n",
      "Epoch 100/120\n",
      "313/313 [==============================] - 7s 23ms/step - loss: 0.2718 - accuracy: 0.8833 - val_loss: 0.5201 - val_accuracy: 0.8110\n",
      "Epoch 101/120\n",
      "313/313 [==============================] - 7s 22ms/step - loss: 0.2738 - accuracy: 0.8795 - val_loss: 0.5406 - val_accuracy: 0.8080\n",
      "Epoch 102/120\n",
      "313/313 [==============================] - 7s 22ms/step - loss: 0.2673 - accuracy: 0.8849 - val_loss: 0.5410 - val_accuracy: 0.8030\n",
      "Epoch 103/120\n",
      "313/313 [==============================] - 9s 28ms/step - loss: 0.2618 - accuracy: 0.8915 - val_loss: 0.5443 - val_accuracy: 0.8090\n",
      "Epoch 104/120\n",
      "313/313 [==============================] - 8s 24ms/step - loss: 0.2627 - accuracy: 0.8865 - val_loss: 0.5537 - val_accuracy: 0.8030\n",
      "Epoch 105/120\n",
      "313/313 [==============================] - 9s 28ms/step - loss: 0.2605 - accuracy: 0.8882 - val_loss: 0.5156 - val_accuracy: 0.8180\n",
      "Epoch 106/120\n",
      "313/313 [==============================] - 7s 22ms/step - loss: 0.2700 - accuracy: 0.8839 - val_loss: 0.5452 - val_accuracy: 0.8000\n",
      "Epoch 107/120\n",
      "313/313 [==============================] - 7s 22ms/step - loss: 0.2631 - accuracy: 0.8877 - val_loss: 0.5277 - val_accuracy: 0.8100\n",
      "Epoch 108/120\n",
      "313/313 [==============================] - 8s 25ms/step - loss: 0.2624 - accuracy: 0.8884 - val_loss: 0.5241 - val_accuracy: 0.8100\n",
      "Epoch 109/120\n",
      "313/313 [==============================] - 11s 34ms/step - loss: 0.2524 - accuracy: 0.8925 - val_loss: 0.5412 - val_accuracy: 0.8150\n",
      "Epoch 110/120\n",
      "313/313 [==============================] - 8s 24ms/step - loss: 0.2541 - accuracy: 0.8929 - val_loss: 0.5590 - val_accuracy: 0.8120\n",
      "Epoch 111/120\n",
      "313/313 [==============================] - 7s 23ms/step - loss: 0.2520 - accuracy: 0.8933 - val_loss: 0.5513 - val_accuracy: 0.8120\n",
      "Epoch 112/120\n",
      "313/313 [==============================] - 7s 23ms/step - loss: 0.2504 - accuracy: 0.8929 - val_loss: 0.5617 - val_accuracy: 0.8170\n",
      "Epoch 113/120\n"
     ]
    },
    {
     "name": "stdout",
     "output_type": "stream",
     "text": [
      "313/313 [==============================] - 10s 32ms/step - loss: 0.2520 - accuracy: 0.8965 - val_loss: 0.5732 - val_accuracy: 0.8020\n",
      "Epoch 114/120\n",
      "313/313 [==============================] - 6s 20ms/step - loss: 0.2510 - accuracy: 0.8946 - val_loss: 0.5552 - val_accuracy: 0.8080\n",
      "Epoch 115/120\n",
      "313/313 [==============================] - 8s 26ms/step - loss: 0.2515 - accuracy: 0.8960 - val_loss: 0.5337 - val_accuracy: 0.8100\n",
      "Epoch 116/120\n",
      "313/313 [==============================] - 8s 25ms/step - loss: 0.2477 - accuracy: 0.8937 - val_loss: 0.5970 - val_accuracy: 0.8020\n",
      "Epoch 117/120\n",
      "313/313 [==============================] - 12s 38ms/step - loss: 0.2468 - accuracy: 0.8947 - val_loss: 0.5377 - val_accuracy: 0.8000\n",
      "Epoch 118/120\n",
      "313/313 [==============================] - 8s 24ms/step - loss: 0.2472 - accuracy: 0.8948 - val_loss: 0.5474 - val_accuracy: 0.8020\n",
      "Epoch 119/120\n",
      "313/313 [==============================] - 11s 36ms/step - loss: 0.2544 - accuracy: 0.8938 - val_loss: 0.5694 - val_accuracy: 0.8030\n",
      "Epoch 120/120\n",
      "313/313 [==============================] - 7s 22ms/step - loss: 0.2553 - accuracy: 0.8952 - val_loss: 0.5477 - val_accuracy: 0.8010\n"
     ]
    }
   ],
   "source": [
    "# train\n",
    "history = model.fit([inputs_train, queries_train], answers_train,batch_size=32,epochs=120,validation_data=([inputs_test, queries_test], answers_test))"
   ]
  },
  {
   "cell_type": "markdown",
   "metadata": {},
   "source": [
    "### Saving the Model"
   ]
  },
  {
   "cell_type": "code",
   "execution_count": 56,
   "metadata": {},
   "outputs": [],
   "source": [
    "filename = 'chatbot_120_epochs.h5'\n",
    "model.save(filename)"
   ]
  },
  {
   "cell_type": "markdown",
   "metadata": {},
   "source": [
    "## Evaluating the Model\n",
    "\n",
    "### Plotting Out Training History"
   ]
  },
  {
   "cell_type": "code",
   "execution_count": 57,
   "metadata": {},
   "outputs": [
    {
     "name": "stdout",
     "output_type": "stream",
     "text": [
      "dict_keys(['loss', 'accuracy', 'val_loss', 'val_accuracy'])\n"
     ]
    },
    {
     "data": {
      "image/png": "[encoded data removed]",
      "text/plain": [
       "<Figure size 432x288 with 1 Axes>"
      ]
     },
     "metadata": {
      "needs_background": "light"
     },
     "output_type": "display_data"
    }
   ],
   "source": [
    "import matplotlib.pyplot as plt\n",
    "%matplotlib inline\n",
    "print(history.history.keys())\n",
    "# summarize history for accuracy\n",
    "plt.plot(history.history['accuracy'])\n",
    "plt.plot(history.history['val_accuracy'])\n",
    "plt.title('model accuracy')\n",
    "plt.ylabel('accuracy')\n",
    "plt.xlabel('epoch')\n",
    "plt.legend(['train', 'test'], loc='upper left')\n",
    "plt.show()"
   ]
  },
  {
   "cell_type": "markdown",
   "metadata": {},
   "source": [
    "### Evaluating on Given Test Set"
   ]
  },
  {
   "cell_type": "code",
   "execution_count": 58,
   "metadata": {},
   "outputs": [],
   "source": [
    "model.load_weights(filename)\n",
    "pred_results = model.predict(([inputs_test, queries_test]))"
   ]
  },
  {
   "cell_type": "code",
   "execution_count": 59,
   "metadata": {},
   "outputs": [
    {
     "data": {
      "text/plain": [
       "['Mary',\n",
       " 'got',\n",
       " 'the',\n",
       " 'milk',\n",
       " 'there',\n",
       " '.',\n",
       " 'John',\n",
       " 'moved',\n",
       " 'to',\n",
       " 'the',\n",
       " 'bedroom',\n",
       " '.']"
      ]
     },
     "execution_count": 59,
     "metadata": {},
     "output_type": "execute_result"
    }
   ],
   "source": [
    "test_data[0][0]"
   ]
  },
  {
   "cell_type": "code",
   "execution_count": 60,
   "metadata": {},
   "outputs": [
    {
     "name": "stdout",
     "output_type": "stream",
     "text": [
      "Mary got the milk there . John moved to the bedroom .\n"
     ]
    }
   ],
   "source": [
    "story =' '.join(word for word in test_data[0][0])\n",
    "print(story)"
   ]
  },
  {
   "cell_type": "code",
   "execution_count": 61,
   "metadata": {},
   "outputs": [
    {
     "name": "stdout",
     "output_type": "stream",
     "text": [
      "Is John in the kitchen ?\n"
     ]
    }
   ],
   "source": [
    "query = ' '.join(word for word in test_data[0][1])\n",
    "print(query)"
   ]
  },
  {
   "cell_type": "code",
   "execution_count": 62,
   "metadata": {},
   "outputs": [
    {
     "name": "stdout",
     "output_type": "stream",
     "text": [
      "True Test Answer from Data is: no\n"
     ]
    }
   ],
   "source": [
    "print(\"True Test Answer from Data is:\",test_data[0][2])"
   ]
  },
  {
   "cell_type": "code",
   "execution_count": 63,
   "metadata": {},
   "outputs": [
    {
     "name": "stdout",
     "output_type": "stream",
     "text": [
      "Predicted answer is:  no\n",
      "Probability of certainty was:  0.99998784\n"
     ]
    }
   ],
   "source": [
    "#Generate prediction from model\n",
    "val_max = np.argmax(pred_results[0])\n",
    "\n",
    "for key, val in tokenizer.word_index.items():\n",
    "    if val == val_max:\n",
    "        k = key\n",
    "\n",
    "print(\"Predicted answer is: \", k)\n",
    "print(\"Probability of certainty was: \", pred_results[0][val_max])"
   ]
  },
  {
   "cell_type": "markdown",
   "metadata": {},
   "source": [
    "## Writing Your Own Stories and Questions\n",
    "\n",
    "Remember you can only use words from the existing vocab"
   ]
  },
  {
   "cell_type": "code",
   "execution_count": 64,
   "metadata": {},
   "outputs": [
    {
     "data": {
      "text/plain": [
       "{'.',\n",
       " '?',\n",
       " 'Daniel',\n",
       " 'Is',\n",
       " 'John',\n",
       " 'Mary',\n",
       " 'Sandra',\n",
       " 'apple',\n",
       " 'back',\n",
       " 'bathroom',\n",
       " 'bedroom',\n",
       " 'discarded',\n",
       " 'down',\n",
       " 'dropped',\n",
       " 'football',\n",
       " 'garden',\n",
       " 'got',\n",
       " 'grabbed',\n",
       " 'hallway',\n",
       " 'in',\n",
       " 'journeyed',\n",
       " 'kitchen',\n",
       " 'left',\n",
       " 'milk',\n",
       " 'moved',\n",
       " 'no',\n",
       " 'office',\n",
       " 'picked',\n",
       " 'put',\n",
       " 'the',\n",
       " 'there',\n",
       " 'to',\n",
       " 'took',\n",
       " 'travelled',\n",
       " 'up',\n",
       " 'went',\n",
       " 'yes'}"
      ]
     },
     "execution_count": 64,
     "metadata": {},
     "output_type": "execute_result"
    }
   ],
   "source": [
    "vocab"
   ]
  },
  {
   "cell_type": "code",
   "execution_count": 65,
   "metadata": {},
   "outputs": [
    {
     "data": {
      "text/plain": [
       "['John',\n",
       " 'left',\n",
       " 'the',\n",
       " 'kitchen',\n",
       " '.',\n",
       " 'Sandra',\n",
       " 'dropped',\n",
       " 'the',\n",
       " 'football',\n",
       " 'in',\n",
       " 'the',\n",
       " 'garden',\n",
       " '.']"
      ]
     },
     "execution_count": 65,
     "metadata": {},
     "output_type": "execute_result"
    }
   ],
   "source": [
    "# Note the whitespace of the periods\n",
    "my_story = \"John left the kitchen . Sandra dropped the football in the garden .\"\n",
    "my_story.split()"
   ]
  },
  {
   "cell_type": "code",
   "execution_count": 66,
   "metadata": {},
   "outputs": [],
   "source": [
    "my_question = \"Is the football in the garden ?\""
   ]
  },
  {
   "cell_type": "code",
   "execution_count": 67,
   "metadata": {},
   "outputs": [
    {
     "data": {
      "text/plain": [
       "['Is', 'the', 'football', 'in', 'the', 'garden', '?']"
      ]
     },
     "execution_count": 67,
     "metadata": {},
     "output_type": "execute_result"
    }
   ],
   "source": [
    "my_question.split()"
   ]
  },
  {
   "cell_type": "code",
   "execution_count": 68,
   "metadata": {},
   "outputs": [],
   "source": [
    "mydata = [(my_story.split(),my_question.split(),'yes')]"
   ]
  },
  {
   "cell_type": "code",
   "execution_count": 69,
   "metadata": {},
   "outputs": [],
   "source": [
    "my_story,my_ques,my_ans = vectorize_stories(mydata)"
   ]
  },
  {
   "cell_type": "code",
   "execution_count": 70,
   "metadata": {},
   "outputs": [],
   "source": [
    "pred_results = model.predict(([ my_story, my_ques]))"
   ]
  },
  {
   "cell_type": "code",
   "execution_count": 71,
   "metadata": {},
   "outputs": [
    {
     "name": "stdout",
     "output_type": "stream",
     "text": [
      "Predicted answer is:  yes\n",
      "Probability of certainty was:  0.7901444\n"
     ]
    }
   ],
   "source": [
    "#Generate prediction from model\n",
    "val_max = np.argmax(pred_results[0])\n",
    "\n",
    "for key, val in tokenizer.word_index.items():\n",
    "    if val == val_max:\n",
    "        k = key\n",
    "\n",
    "print(\"Predicted answer is: \", k)\n",
    "print(\"Probability of certainty was: \", pred_results[0][val_max])"
   ]
  },
  {
   "cell_type": "markdown",
   "metadata": {},
   "source": [
    "### Submitted By: \n",
    "    Poorvi Sharma    [IC-2k19-59]\n",
    "    Pradhumn Chourey [IC-2k19-60]\n",
    "    Samriddhi Jariya [IC-2k19-59]"
   ]
  }
 ],
 "metadata": {
  "interpreter": {
   "hash": "369f2c481f4da34e4445cda3fffd2e751bd1c4d706f27375911949ba6bb62e1c"
  },
  "kernelspec": {
   "display_name": "Python 3.10.0 64-bit",
   "language": "python",
   "name": "python3"
  },
  "language_info": {
   "codemirror_mode": {
    "name": "ipython",
    "version": 3
   },
   "file_extension": ".py",
   "mimetype": "text/x-python",
   "name": "python",
   "nbconvert_exporter": "python",
   "pygments_lexer": "ipython3",
   "version": "3.10.0"
  }
 },
 "nbformat": 4,
 "nbformat_minor": 2
}
